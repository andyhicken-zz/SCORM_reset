{
 "cells": [
  {
   "cell_type": "code",
   "execution_count": 58,
   "metadata": {},
   "outputs": [],
   "source": [
    "# Script to fix change a bunch of SCORM settings by Andy Hicken, 10 Dec 2019. \n",
    "# I used this from the Anaconda distribution of Python. \n",
    "# Selenium for Python has to be installed before this, and you'll need the geckodriver driver for Firefox.\n",
    "\n",
    "from selenium import webdriver\n",
    "from selenium.webdriver.common.keys import Keys\n",
    "\n",
    "# used for explicit wait\n",
    "from selenium.webdriver.common.by import By\n",
    "# allows \"implicit wait\" (timer)\n",
    "from selenium.webdriver.support.ui import WebDriverWait\n",
    "# allows \"explicit wait\" (wait until you see a certain thing)\n",
    "from selenium.webdriver.support import expected_conditions as EC\n",
    "\n",
    "import time \n",
    "import sys\n",
    "import io\n",
    "\n",
    "# Update this: \n",
    "# this sets USERNAME, PASSWORD, login_URL, and site_URL from a private file (update this to your file)\n",
    "%run \\\\jupiter\\users\\ahicken\\app_keys\\scorm_keys.py"
   ]
  },
  {
   "cell_type": "code",
   "execution_count": 59,
   "metadata": {},
   "outputs": [],
   "source": [
    "# login\n",
    "\n",
    "# use Chrome for the scraping \n",
    "# driver = webdriver.Chrome()\n",
    "\n",
    "# use Firefox for the scraping\n",
    "driver = webdriver.Firefox()\n",
    "# wait 2 seconds for Javascript to load \n",
    "driver.implicitly_wait(2000)\n",
    "# NOTE: \"Once set, the implicit wait is set for the life of the WebDriver object.\"\n",
    "\n",
    "driver.get(login_URL)\n",
    "\n",
    "# log in \n",
    "# username\n",
    "username = driver.find_element_by_id(\"username\")\n",
    "username.clear()\n",
    "username.send_keys(USERNAME)\n",
    "\n",
    "# password\n",
    "password = driver.find_element_by_id(\"password\")\n",
    "password.clear()\n",
    "password.send_keys(PASSWORD)\n",
    "\n",
    "# click\n",
    "driver.find_element_by_id(\"loginbtn\").click()\n",
    " "
   ]
  },
  {
   "cell_type": "code",
   "execution_count": 34,
   "metadata": {},
   "outputs": [],
   "source": [
    "# function: check if the SCORM is set as a requirement in the course completion settings.\n",
    "def checkCourseSettings(course_id, scorm_id): \n",
    "    # go to the course completion settings\n",
    "    completion_URL = site_URL + '/course/completion.php?id=' + str(course_id)\n",
    "    driver.get(completion_URL)\n",
    "    \n",
    "    # find the SCORM links and return \"multiple SCORMs\" if appopriate\n",
    "    # might not do this - only necessary if SCORMs are required for completion\n",
    "    \n",
    "    # note: the ID for the checkbox includes the activity ID, in the form 'id_criteria_activity_1032'\n",
    "    # this code returns true if the checkbox is selected, and false if it is not:    \n",
    "    return driver.find_element_by_id(\"id_criteria_activity_\" + str(scorm_id)).is_selected()\n",
    "    \n"
   ]
  },
  {
   "cell_type": "code",
   "execution_count": 35,
   "metadata": {},
   "outputs": [],
   "source": [
    "# function: reset completion for a SCORM module\n",
    "def resetCompletion(course_id, scorm_id): \n",
    "    # go to the SCORM settings\n",
    "    SCORM_settings_URL = site_URL + '/course/modedit.php?update=' + str(scorm_id)\n",
    "    driver.get(SCORM_settings_URL)\n",
    "\n",
    "    \n",
    "    # expand all headers if necessary\n",
    "    try:\n",
    "        driver.find_element_by_link_text('Expand all').click()\n",
    "    except:\n",
    "        pass\n",
    "    \n",
    "    # check if the Require View setting is checked. Return a message if not. \n",
    "    if not driver.find_element_by_id(\"id_completionview\").is_selected():\n",
    "        return \"require view was not checked for \" + str((course_id, scorm_id))\n",
    "    \n",
    "    # try to click the Reset Completion button. \n",
    "    # uncheck the checkbox, save and return a message if it not present.\n",
    "    try: \n",
    "        driver.find_element_by_id('id_unlockcompletion').click()\n",
    "    except:\n",
    "        driver.find_element_by_id(\"id_completionview\").click() # Require View checkbox\n",
    "        driver.find_element_by_id(\"id_submitbutton2\").click() # Save and return to course\n",
    "        return \"reset. activity completion was not locked for \" + str((course_id, scorm_id))\n",
    "    \n",
    "    # uncheck the Require View setting, then save. \n",
    "    driver.find_element_by_id(\"id_completionview\").click() # Require View checkbox\n",
    "    driver.find_element_by_id(\"id_submitbutton2\").click() # Save and return to course\n",
    "    return \"success for \" + str((course_id, scorm_id))\n",
    "    \n",
    "    \n",
    "    "
   ]
  },
  {
   "cell_type": "code",
   "execution_count": 36,
   "metadata": {},
   "outputs": [],
   "source": [
    "# function: main loop\n",
    "def resetCompletionLoop(list_of_ids):\n",
    "    for duple in list_of_ids:\n",
    "        if checkCourseSettings(duple[0], duple[1]) == False: \n",
    "            # (we get here if the completion checkbox for the SCORM is NOT checked)\n",
    "            response = resetCompletion(duple[0], duple[1])\n",
    "            print(response)\n",
    "        else:\n",
    "            print(\"completion depended on \" + str(duple))\n",
    "            "
   ]
  },
  {
   "cell_type": "code",
   "execution_count": 56,
   "metadata": {},
   "outputs": [],
   "source": [
    "# list of tuples with (course ID, SCORM ID)\n",
    "test_list = [\n",
    "    (454,2631),\n",
    "    (455,2635),\n",
    "    (312,5388),\n",
    "    (306,5390),\n",
    "    (962,5438),\n",
    "    (337,5444),\n",
    "    (973,5500)\n",
    "]"
   ]
  },
  {
   "cell_type": "code",
   "execution_count": 57,
   "metadata": {},
   "outputs": [
    {
     "name": "stdout",
     "output_type": "stream",
     "text": [
      "success for (454, 2631)\n",
      "success for (455, 2635)\n",
      "success for (312, 5388)\n",
      "success for (306, 5390)\n",
      "success for (962, 5438)\n",
      "success for (337, 5444)\n",
      "success for (973, 5500)\n"
     ]
    }
   ],
   "source": [
    "# call \n",
    "resetCompletionLoop(test_list)"
   ]
  }
 ],
 "metadata": {
  "kernelspec": {
   "display_name": "Python 3",
   "language": "python",
   "name": "python3"
  },
  "language_info": {
   "codemirror_mode": {
    "name": "ipython",
    "version": 3
   },
   "file_extension": ".py",
   "mimetype": "text/x-python",
   "name": "python",
   "nbconvert_exporter": "python",
   "pygments_lexer": "ipython3",
   "version": "3.7.4"
  }
 },
 "nbformat": 4,
 "nbformat_minor": 2
}
